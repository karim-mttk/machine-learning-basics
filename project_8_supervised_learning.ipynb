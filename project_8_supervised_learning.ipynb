{
  "nbformat": 4,
  "nbformat_minor": 0,
  "metadata": {
    "colab": {
      "provenance": [],
      "collapsed_sections": [
        "f_DlFbbZSMxF",
        "TpLwyGYDUpu-"
      ],
      "authorship_tag": "ABX9TyPGq741sdaJ4L8ghbYCXD54",
      "include_colab_link": true
    },
    "kernelspec": {
      "name": "python3",
      "display_name": "Python 3"
    },
    "language_info": {
      "name": "python"
    }
  },
  "cells": [
    {
      "cell_type": "markdown",
      "metadata": {
        "id": "view-in-github",
        "colab_type": "text"
      },
      "source": [
        "<a href=\"https://colab.research.google.com/github/karim-mttk/machine-learning-basics/blob/main/project_8_supervised_learning.ipynb\" target=\"_parent\"><img src=\"https://colab.research.google.com/assets/colab-badge.svg\" alt=\"Open In Colab\"/></a>"
      ]
    },
    {
      "cell_type": "markdown",
      "source": [
        "##Model Representation"
      ],
      "metadata": {
        "id": "8BsvhIFLiVHr"
      }
    },
    {
      "cell_type": "code",
      "source": [
        "import numpy as np\n",
        "import matplotlib.pyplot as plt"
      ],
      "metadata": {
        "id": "_RoHnPODiYrO"
      },
      "execution_count": null,
      "outputs": []
    },
    {
      "cell_type": "code",
      "source": [
        "x_train = np.array([1.0, 2.0])\n",
        "y_train = np.array([300.0, 500.0])\n",
        "print(f\"x_train = {x_train}\")\n",
        "print(f\"y_train = {y_train}\")"
      ],
      "metadata": {
        "colab": {
          "base_uri": "https://localhost:8080/"
        },
        "id": "b2NBWnFJif-A",
        "outputId": "46c25d9f-fa4a-4b20-972d-73f79e308cd6"
      },
      "execution_count": null,
      "outputs": [
        {
          "output_type": "stream",
          "name": "stdout",
          "text": [
            "x_train = [1. 2.]\n",
            "y_train = [300. 500.]\n"
          ]
        }
      ]
    },
    {
      "cell_type": "code",
      "source": [
        "#no. of training examples 'm'\n",
        "print(f\"x_train.shape: {x_train.shape}\")\n",
        "m = x_train.shape[0]\n",
        "print(f\"Number of training examples is: {m}\")"
      ],
      "metadata": {
        "colab": {
          "base_uri": "https://localhost:8080/"
        },
        "id": "UuUBaR-IjQKS",
        "outputId": "7ad585cc-ef57-4c82-ca61-f034bfeb9178"
      },
      "execution_count": null,
      "outputs": [
        {
          "output_type": "stream",
          "name": "stdout",
          "text": [
            "x_train.shape: (2,)\n",
            "Number of training examples is: 2\n"
          ]
        }
      ]
    },
    {
      "cell_type": "code",
      "source": [
        "m = len(x_train)\n",
        "print(f\"Number of training examples is: {m}\")"
      ],
      "metadata": {
        "colab": {
          "base_uri": "https://localhost:8080/"
        },
        "id": "iI8KyKHDk0sQ",
        "outputId": "e511d02b-83a5-4e89-d0ee-0d3cd9f97308"
      },
      "execution_count": null,
      "outputs": [
        {
          "output_type": "stream",
          "name": "stdout",
          "text": [
            "Number of training examples is: 2\n"
          ]
        }
      ]
    },
    {
      "cell_type": "code",
      "source": [
        "#naming example x_i and y_i\n",
        "i = 1\n",
        "\n",
        "x_i = x_train[i]\n",
        "y_i = y_train[i]\n",
        "print(f\"(x^({i}), y^({i})) = ({x_i}, {y_i})\")"
      ],
      "metadata": {
        "colab": {
          "base_uri": "https://localhost:8080/"
        },
        "id": "RLST7Qomlbrz",
        "outputId": "44991c5c-0854-4162-bb08-ad29a9420040"
      },
      "execution_count": null,
      "outputs": [
        {
          "output_type": "stream",
          "name": "stdout",
          "text": [
            "(x^(1), y^(1)) = (2.0, 500.0)\n"
          ]
        }
      ]
    },
    {
      "cell_type": "code",
      "source": [
        "#plotting the data points\n",
        "plt.scatter(x_train, y_train, marker='x', c='r')\n",
        "plt.title(\"Housing Prices\")\n",
        "plt.ylabel(\"Price in $1000\")\n",
        "plt.xlabel(\"Size in 1000sqft\")\n",
        "plt.show()"
      ],
      "metadata": {
        "colab": {
          "base_uri": "https://localhost:8080/",
          "height": 472
        },
        "id": "wNNdUh2RmQAD",
        "outputId": "6692754a-c455-4dfe-c90e-066f66e4af6b"
      },
      "execution_count": null,
      "outputs": [
        {
          "output_type": "display_data",
          "data": {
            "text/plain": [
              "<Figure size 640x480 with 1 Axes>"
            ],
            "image/png": "[encoded data removed]"
          },
          "metadata": {}
        }
      ]
    },
    {
      "cell_type": "code",
      "source": [
        "w = 100\n",
        "b = 100\n",
        "print(f\"w: {w}\")\n",
        "print(f\"b: {b}\")"
      ],
      "metadata": {
        "colab": {
          "base_uri": "https://localhost:8080/"
        },
        "id": "tAa4U9ABm07z",
        "outputId": "b99fa26a-7a13-4723-9870-d8657a87f168"
      },
      "execution_count": null,
      "outputs": [
        {
          "output_type": "stream",
          "name": "stdout",
          "text": [
            "w: 100\n",
            "b: 100\n"
          ]
        }
      ]
    },
    {
      "cell_type": "code",
      "source": [
        "#compute the prediction of a linear model\n",
        "def compute_model_output(x, w, b):\n",
        "  m = x.shape[0]\n",
        "  f_wb = np.zeros(m)\n",
        "  for i in range(m):\n",
        "    f_wb[i] = w * x[i] + b\n",
        "\n",
        "  return f_wb"
      ],
      "metadata": {
        "id": "Fu_opyjLnUHn"
      },
      "execution_count": null,
      "outputs": []
    },
    {
      "cell_type": "code",
      "source": [
        "tmp_f_wb = compute_model_output(x_train, w, b,)"
      ],
      "metadata": {
        "id": "K8OZIcOcoHpn"
      },
      "execution_count": null,
      "outputs": []
    },
    {
      "cell_type": "code",
      "source": [
        "#plot the prediction model\n",
        "plt.plot(x_train, tmp_f_wb, c='b', label='Our Prediction')\n",
        "plt.scatter(x_train, y_train, marker='x', c='r', label='Actual Values')\n",
        "plt.title(\"Housing Prices\")\n",
        "plt.ylabel(\"Price in $1000\")\n",
        "plt.xlabel(\"Size in 1000sqft\")\n",
        "plt.show()"
      ],
      "metadata": {
        "colab": {
          "base_uri": "https://localhost:8080/",
          "height": 472
        },
        "id": "phgMfHeXoXg3",
        "outputId": "748bd29a-c37c-48f0-9789-b65636ac4761"
      },
      "execution_count": null,
      "outputs": [
        {
          "output_type": "display_data",
          "data": {
            "text/plain": [
              "<Figure size 640x480 with 1 Axes>"
            ],
            "image/png": "[encoded data removed]"
          },
          "metadata": {}
        }
      ]
    },
    {
      "cell_type": "code",
      "source": [
        "#prediction\n",
        "w = 200\n",
        "b = 100\n",
        "x_i = 1.2\n",
        "cost_1200sqft = w * x_i + b\n",
        "\n",
        "print(f\"${cost_1200sqft:.0f} thousand dollars\")"
      ],
      "metadata": {
        "colab": {
          "base_uri": "https://localhost:8080/"
        },
        "id": "cInTYICGotWo",
        "outputId": "28adce88-9f08-46dc-87af-f18b4fcadc19"
      },
      "execution_count": null,
      "outputs": [
        {
          "output_type": "stream",
          "name": "stdout",
          "text": [
            "$340 thousand dollars\n"
          ]
        }
      ]
    },
    {
      "cell_type": "markdown",
      "source": [
        "##Multiple Variable Linear Regression"
      ],
      "metadata": {
        "id": "F-3mRfqDUgVe"
      }
    },
    {
      "cell_type": "code",
      "source": [
        "import copy, math\n",
        "import numpy as np\n",
        "import matplotlib.pyplot as plt\n",
        "#plt.style.use('./deeplearning.mplstyle')\n",
        "np.set_printoptions(precision=2)"
      ],
      "metadata": {
        "id": "ydOIyqTaUh-q"
      },
      "execution_count": 2,
      "outputs": []
    },
    {
      "cell_type": "code",
      "source": [
        "X_train = np.array([[2104, 5, 1, 45], [1416, 3, 2, 40], [852, 2, 1, 35]])\n",
        "y_train = np.array([460, 232, 178])"
      ],
      "metadata": {
        "id": "LMD22QX7UnSJ"
      },
      "execution_count": 3,
      "outputs": []
    },
    {
      "cell_type": "code",
      "source": [
        "# data is stored in numpy array/matrix\n",
        "print(f\"X Shape: {X_train.shape}, X Type:{type(X_train)})\")\n",
        "print(X_train)\n",
        "print(f\"y Shape: {y_train.shape}, y Type:{type(y_train)})\")\n",
        "print(y_train)"
      ],
      "metadata": {
        "colab": {
          "base_uri": "https://localhost:8080/"
        },
        "id": "lacgnj-nUv2q",
        "outputId": "8aa0fd6d-abc1-4ae6-cad1-eb4a01d856e5"
      },
      "execution_count": 4,
      "outputs": [
        {
          "output_type": "stream",
          "name": "stdout",
          "text": [
            "X Shape: (3, 4), X Type:<class 'numpy.ndarray'>)\n",
            "[[2104    5    1   45]\n",
            " [1416    3    2   40]\n",
            " [ 852    2    1   35]]\n",
            "y Shape: (3,), y Type:<class 'numpy.ndarray'>)\n",
            "[460 232 178]\n"
          ]
        }
      ]
    },
    {
      "cell_type": "code",
      "source": [
        "#Parameter vectors w, b\n",
        "b_init = 785.1811367994083\n",
        "w_init = np.array([ 0.39133535, 18.75376741, -53.36032453, -26.42131618])\n",
        "print(f\"w_init shape: {w_init.shape}, b_init type: {type(b_init)}\")"
      ],
      "metadata": {
        "colab": {
          "base_uri": "https://localhost:8080/"
        },
        "id": "fgKLH9NkUy5K",
        "outputId": "06c72ba0-390b-4669-8be6-f5df0b6143bb"
      },
      "execution_count": 5,
      "outputs": [
        {
          "output_type": "stream",
          "name": "stdout",
          "text": [
            "w_init shape: (4,), b_init type: <class 'float'>\n"
          ]
        }
      ]
    },
    {
      "cell_type": "code",
      "source": [
        "#Single Prediction element by element\n",
        "def predict_single_loop(x, w, b):\n",
        "    \"\"\"\n",
        "    single predict using linear regression\n",
        "\n",
        "    Args:\n",
        "      x (ndarray): Shape (n,) example with multiple features\n",
        "      w (ndarray): Shape (n,) model parameters\n",
        "      b (scalar):  model parameter\n",
        "\n",
        "    Returns:\n",
        "      p (scalar):  prediction\n",
        "    \"\"\"\n",
        "    n = x.shape[0]\n",
        "    p = 0\n",
        "    for i in range(n):\n",
        "        p_i = x[i] * w[i]\n",
        "        p = p + p_i\n",
        "    p = p + b\n",
        "    return p"
      ],
      "metadata": {
        "id": "OyeJlA5eU6aL"
      },
      "execution_count": 6,
      "outputs": []
    },
    {
      "cell_type": "code",
      "source": [
        "# get a row from our training data\n",
        "x_vec = X_train[0,:]\n",
        "print(f\"x_vec shape {x_vec.shape}, x_vec value: {x_vec}\")\n",
        "\n",
        "# make a prediction\n",
        "f_wb = predict_single_loop(x_vec, w_init, b_init)\n",
        "print(f\"f_wb shape {f_wb.shape}, prediction: {f_wb}\")"
      ],
      "metadata": {
        "colab": {
          "base_uri": "https://localhost:8080/"
        },
        "id": "eYOke3wGVHAK",
        "outputId": "791dee6f-6690-4899-ae56-58589691de0a"
      },
      "execution_count": 7,
      "outputs": [
        {
          "output_type": "stream",
          "name": "stdout",
          "text": [
            "x_vec shape (4,), x_vec value: [2104    5    1   45]\n",
            "f_wb shape (), prediction: 459.9999976194083\n"
          ]
        }
      ]
    },
    {
      "cell_type": "code",
      "source": [
        "#Single Prediction, vector\n",
        "def predict(x, w, b):\n",
        "    \"\"\"\n",
        "    single predict using linear regression\n",
        "    Args:\n",
        "      x (ndarray): Shape (n,) example with multiple features\n",
        "      w (ndarray): Shape (n,) model parameters\n",
        "      b (scalar):             model parameter\n",
        "\n",
        "    Returns:\n",
        "      p (scalar):  prediction\n",
        "    \"\"\"\n",
        "    p = np.dot(x, w) + b\n",
        "    return p"
      ],
      "metadata": {
        "id": "B7B6j_peVJPr"
      },
      "execution_count": 8,
      "outputs": []
    },
    {
      "cell_type": "code",
      "source": [
        "# get a row from our training data\n",
        "x_vec = X_train[0,:]\n",
        "print(f\"x_vec shape {x_vec.shape}, x_vec value: {x_vec}\")\n",
        "\n",
        "# make a prediction\n",
        "f_wb = predict(x_vec,w_init, b_init)\n",
        "print(f\"f_wb shape {f_wb.shape}, prediction: {f_wb}\")"
      ],
      "metadata": {
        "colab": {
          "base_uri": "https://localhost:8080/"
        },
        "id": "ABbVxohiVPA5",
        "outputId": "58efe798-bde3-4155-a42d-3dff366dd2f5"
      },
      "execution_count": 9,
      "outputs": [
        {
          "output_type": "stream",
          "name": "stdout",
          "text": [
            "x_vec shape (4,), x_vec value: [2104    5    1   45]\n",
            "f_wb shape (), prediction: 459.9999976194083\n"
          ]
        }
      ]
    },
    {
      "cell_type": "code",
      "source": [
        "def compute_cost(X, y, w, b):\n",
        "    \"\"\"\n",
        "    compute cost\n",
        "    Args:\n",
        "      X (ndarray (m,n)): Data, m examples with n features\n",
        "      y (ndarray (m,)) : target values\n",
        "      w (ndarray (n,)) : model parameters\n",
        "      b (scalar)       : model parameter\n",
        "\n",
        "    Returns:\n",
        "      cost (scalar): cost\n",
        "    \"\"\"\n",
        "    m = X.shape[0]\n",
        "    cost = 0.0\n",
        "    for i in range(m):\n",
        "        f_wb_i = np.dot(X[i], w) + b           #(n,)(n,) = scalar (see np.dot)\n",
        "        cost = cost + (f_wb_i - y[i])**2       #scalar\n",
        "    cost = cost / (2 * m)                      #scalar\n",
        "    return cost"
      ],
      "metadata": {
        "id": "zyiv1Ue7VRTs"
      },
      "execution_count": 10,
      "outputs": []
    },
    {
      "cell_type": "code",
      "source": [
        "# Compute and display cost using our pre-chosen optimal parameters.\n",
        "cost = compute_cost(X_train, y_train, w_init, b_init)\n",
        "print(f'Cost at optimal w : {cost}')"
      ],
      "metadata": {
        "colab": {
          "base_uri": "https://localhost:8080/"
        },
        "id": "iRcB-qFvVVqs",
        "outputId": "8eea9399-4026-475e-a036-61fcc8610c10"
      },
      "execution_count": 11,
      "outputs": [
        {
          "output_type": "stream",
          "name": "stdout",
          "text": [
            "Cost at optimal w : 1.5578904428966628e-12\n"
          ]
        }
      ]
    },
    {
      "cell_type": "code",
      "source": [
        "def compute_gradient(X, y, w, b):\n",
        "    \"\"\"\n",
        "    Computes the gradient for linear regression\n",
        "    Args:\n",
        "      X (ndarray (m,n)): Data, m examples with n features\n",
        "      y (ndarray (m,)) : target values\n",
        "      w (ndarray (n,)) : model parameters\n",
        "      b (scalar)       : model parameter\n",
        "\n",
        "    Returns:\n",
        "      dj_dw (ndarray (n,)): The gradient of the cost w.r.t. the parameters w.\n",
        "      dj_db (scalar):       The gradient of the cost w.r.t. the parameter b.\n",
        "    \"\"\"\n",
        "    m,n = X.shape           #(number of examples, number of features)\n",
        "    dj_dw = np.zeros((n,))\n",
        "    dj_db = 0.\n",
        "\n",
        "    for i in range(m):\n",
        "        err = (np.dot(X[i], w) + b) - y[i]\n",
        "        for j in range(n):\n",
        "            dj_dw[j] = dj_dw[j] + err * X[i, j]\n",
        "        dj_db = dj_db + err\n",
        "    dj_dw = dj_dw / m\n",
        "    dj_db = dj_db / m\n",
        "\n",
        "    return dj_db, dj_dw"
      ],
      "metadata": {
        "id": "X-MCz1zgVclL"
      },
      "execution_count": 12,
      "outputs": []
    },
    {
      "cell_type": "code",
      "source": [
        "#Compute and display gradient\n",
        "tmp_dj_db, tmp_dj_dw = compute_gradient(X_train, y_train, w_init, b_init)\n",
        "print(f'dj_db at initial w,b: {tmp_dj_db}')\n",
        "print(f'dj_dw at initial w,b: \\n {tmp_dj_dw}')"
      ],
      "metadata": {
        "colab": {
          "base_uri": "https://localhost:8080/"
        },
        "id": "vU7ZbBiNVgAc",
        "outputId": "846e311b-7fc6-470a-f67d-f694b756fff2"
      },
      "execution_count": 13,
      "outputs": [
        {
          "output_type": "stream",
          "name": "stdout",
          "text": [
            "dj_db at initial w,b: -1.6739251501955248e-06\n",
            "dj_dw at initial w,b: \n",
            " [-2.73e-03 -6.27e-06 -2.22e-06 -6.92e-05]\n"
          ]
        }
      ]
    },
    {
      "cell_type": "code",
      "source": [
        "#Gradient Descent With Multiple Variables\n",
        "def gradient_descent(X, y, w_in, b_in, cost_function, gradient_function, alpha, num_iters):\n",
        "    \"\"\"\n",
        "    Performs batch gradient descent to learn w and b. Updates w and b by taking\n",
        "    num_iters gradient steps with learning rate alpha\n",
        "\n",
        "    Args:\n",
        "      X (ndarray (m,n))   : Data, m examples with n features\n",
        "      y (ndarray (m,))    : target values\n",
        "      w_in (ndarray (n,)) : initial model parameters\n",
        "      b_in (scalar)       : initial model parameter\n",
        "      cost_function       : function to compute cost\n",
        "      gradient_function   : function to compute the gradient\n",
        "      alpha (float)       : Learning rate\n",
        "      num_iters (int)     : number of iterations to run gradient descent\n",
        "\n",
        "    Returns:\n",
        "      w (ndarray (n,)) : Updated values of parameters\n",
        "      b (scalar)       : Updated value of parameter\n",
        "      \"\"\"\n",
        "\n",
        "    # An array to store cost J and w's at each iteration primarily for graphing later\n",
        "    J_history = []\n",
        "    w = copy.deepcopy(w_in)  #avoid modifying global w within function\n",
        "    b = b_in\n",
        "\n",
        "    for i in range(num_iters):\n",
        "\n",
        "        # Calculate the gradient and update the parameters\n",
        "        dj_db,dj_dw = gradient_function(X, y, w, b)   ##None\n",
        "\n",
        "        # Update Parameters using w, b, alpha and gradient\n",
        "        w = w - alpha * dj_dw               ##None\n",
        "        b = b - alpha * dj_db               ##None\n",
        "\n",
        "        # Save cost J at each iteration\n",
        "        if i<100000:      # prevent resource exhaustion\n",
        "            J_history.append( cost_function(X, y, w, b))\n",
        "\n",
        "        # Print cost every at intervals 10 times or as many iterations if < 10\n",
        "        if i% math.ceil(num_iters / 10) == 0:\n",
        "            print(f\"Iteration {i:4d}: Cost {J_history[-1]:8.2f}   \")\n",
        "\n",
        "    return w, b, J_history #return final w,b and J history for graphing"
      ],
      "metadata": {
        "id": "w6NFhaM7VjVr"
      },
      "execution_count": 14,
      "outputs": []
    },
    {
      "cell_type": "code",
      "source": [
        "# initialize parameters\n",
        "initial_w = np.zeros_like(w_init)\n",
        "initial_b = 0.\n",
        "# some gradient descent settings\n",
        "iterations = 1000\n",
        "alpha = 5.0e-7\n",
        "# run gradient descent\n",
        "w_final, b_final, J_hist = gradient_descent(X_train, y_train, initial_w, initial_b,\n",
        "                                                    compute_cost, compute_gradient,\n",
        "                                                    alpha, iterations)\n",
        "print(f\"b,w found by gradient descent: {b_final:0.2f},{w_final} \")\n",
        "m,_ = X_train.shape\n",
        "for i in range(m):\n",
        "    print(f\"prediction: {np.dot(X_train[i], w_final) + b_final:0.2f}, target value: {y_train[i]}\")"
      ],
      "metadata": {
        "colab": {
          "base_uri": "https://localhost:8080/"
        },
        "id": "4ygHQkN2VrEL",
        "outputId": "9b0ac6b7-e6d9-41b9-8d1b-fb08776e3844"
      },
      "execution_count": 15,
      "outputs": [
        {
          "output_type": "stream",
          "name": "stdout",
          "text": [
            "Iteration    0: Cost  2529.46   \n",
            "Iteration  100: Cost   695.99   \n",
            "Iteration  200: Cost   694.92   \n",
            "Iteration  300: Cost   693.86   \n",
            "Iteration  400: Cost   692.81   \n",
            "Iteration  500: Cost   691.77   \n",
            "Iteration  600: Cost   690.73   \n",
            "Iteration  700: Cost   689.71   \n",
            "Iteration  800: Cost   688.70   \n",
            "Iteration  900: Cost   687.69   \n",
            "b,w found by gradient descent: -0.00,[ 0.2   0.   -0.01 -0.07] \n",
            "prediction: 426.19, target value: 460\n",
            "prediction: 286.17, target value: 232\n",
            "prediction: 171.47, target value: 178\n"
          ]
        }
      ]
    },
    {
      "cell_type": "code",
      "source": [
        "# plot cost versus iteration\n",
        "fig, (ax1, ax2) = plt.subplots(1, 2, constrained_layout=True, figsize=(12, 4))\n",
        "ax1.plot(J_hist)\n",
        "ax2.plot(100 + np.arange(len(J_hist[100:])), J_hist[100:])\n",
        "ax1.set_title(\"Cost vs. iteration\");  ax2.set_title(\"Cost vs. iteration (tail)\")\n",
        "ax1.set_ylabel('Cost')             ;  ax2.set_ylabel('Cost')\n",
        "ax1.set_xlabel('iteration step')   ;  ax2.set_xlabel('iteration step')\n",
        "plt.show()\n"
      ],
      "metadata": {
        "colab": {
          "base_uri": "https://localhost:8080/",
          "height": 428
        },
        "id": "dgnnaztxVuIs",
        "outputId": "38bd50f3-710c-484a-d179-8a2616f29c7e"
      },
      "execution_count": 16,
      "outputs": [
        {
          "output_type": "display_data",
          "data": {
            "text/plain": [
              "<Figure size 1200x400 with 2 Axes>"
            ],
            "image/png": "[encoded data removed]"
          },
          "metadata": {}
        }
      ]
    }
  ]
}