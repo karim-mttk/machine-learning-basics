{
  "nbformat": 4,
  "nbformat_minor": 0,
  "metadata": {
    "colab": {
      "provenance": [],
      "authorship_tag": "ABX9TyN23ItxlQAbPiHwyRYDZND5",
      "include_colab_link": true
    },
    "kernelspec": {
      "name": "python3",
      "display_name": "Python 3"
    },
    "language_info": {
      "name": "python"
    }
  },
  "cells": [
    {
      "cell_type": "markdown",
      "metadata": {
        "id": "view-in-github",
        "colab_type": "text"
      },
      "source": [
        "<a href=\"https://colab.research.google.com/github/karim-mttk/machine-learning-basics/blob/main/Project3_tensorflow_basics.ipynb\" target=\"_parent\"><img src=\"https://colab.research.google.com/assets/colab-badge.svg\" alt=\"Open In Colab\"/></a>"
      ]
    },
    {
      "cell_type": "markdown",
      "source": [
        "## Using TensorFlow"
      ],
      "metadata": {
        "id": "0XmGNIfKFpgL"
      }
    },
    {
      "cell_type": "code",
      "execution_count": 1,
      "metadata": {
        "id": "qjd0bRUcFePn"
      },
      "outputs": [],
      "source": [
        "import tensorflow as tf"
      ]
    },
    {
      "cell_type": "code",
      "source": [
        "hello = tf.constant('Hello, TensorFlow check!')\n",
        "print(tf.__version__)\n",
        "print(hello)"
      ],
      "metadata": {
        "colab": {
          "base_uri": "https://localhost:8080/"
        },
        "id": "jp78uaRcFx5P",
        "outputId": "edc1416c-c3cc-4bcd-a72b-507554a4750a"
      },
      "execution_count": 4,
      "outputs": [
        {
          "output_type": "stream",
          "name": "stdout",
          "text": [
            "2.12.0\n",
            "tf.Tensor(b'Hello, TensorFlow check!', shape=(), dtype=string)\n"
          ]
        }
      ]
    },
    {
      "cell_type": "code",
      "source": [
        "#adding two constant-op to the graph\n",
        "#create a sum tensorflow op\n",
        "a = tf.constant(3.0, dtype=tf.float32)\n",
        "b = tf.constant(4.0, dtype=tf.float32)\n",
        "sum = tf.add(a,b)\n",
        "print(sum)"
      ],
      "metadata": {
        "colab": {
          "base_uri": "https://localhost:8080/"
        },
        "id": "JdKxIrnhF27A",
        "outputId": "f26ffe60-7bf4-4abb-bc8d-87568d0b9601"
      },
      "execution_count": 5,
      "outputs": [
        {
          "output_type": "stream",
          "name": "stdout",
          "text": [
            "tf.Tensor(7.0, shape=(), dtype=float32)\n"
          ]
        }
      ]
    },
    {
      "cell_type": "code",
      "source": [
        "#placeholders\n",
        "x = tf.constant([[1.0],[2.0]], dtype=tf.float32)\n",
        "W = tf.constant([[3.0, 4.0],[5.0,6.0]], dtype=tf.float32)\n",
        "y = tf.matmul(W, x)\n",
        "\n",
        "print(y)"
      ],
      "metadata": {
        "colab": {
          "base_uri": "https://localhost:8080/"
        },
        "id": "xEYI43nkHAfk",
        "outputId": "73714a02-6154-40bf-8938-780572dcb5cd"
      },
      "execution_count": 6,
      "outputs": [
        {
          "output_type": "stream",
          "name": "stdout",
          "text": [
            "tf.Tensor(\n",
            "[[11.]\n",
            " [17.]], shape=(2, 1), dtype=float32)\n"
          ]
        }
      ]
    },
    {
      "cell_type": "code",
      "source": [],
      "metadata": {
        "id": "D9Y8JuAnVVRx"
      },
      "execution_count": null,
      "outputs": []
    }
  ]
}